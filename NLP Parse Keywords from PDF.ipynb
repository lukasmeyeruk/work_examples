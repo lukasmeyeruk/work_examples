{
 "cells": [
  {
   "cell_type": "markdown",
   "metadata": {},
   "source": [
    "# Extracting Keywords using Natural Language Processing (NLP)"
   ]
  },
  {
   "cell_type": "markdown",
   "metadata": {},
   "source": [
    "First we load all the necessary Python libraries (i.e., nltk and textract)"
   ]
  },
  {
   "cell_type": "code",
   "execution_count": 10,
   "metadata": {
    "collapsed": false
   },
   "outputs": [],
   "source": [
    "import nltk\n",
    "from nltk.corpus import stopwords\n",
    "import textract\n",
    "import re\n",
    "\n",
    "from wand.image import Image\n",
    "from PIL import Image as PI\n",
    "import pyocr\n",
    "import pyocr.builders\n",
    "import io\n"
   ]
  },
  {
   "cell_type": "markdown",
   "metadata": {},
   "source": [
    "### Setting Options and Loading the Document to Parse"
   ]
  },
  {
   "cell_type": "code",
   "execution_count": 27,
   "metadata": {
    "collapsed": false
   },
   "outputs": [],
   "source": [
    "stop = stopwords.words('english') # Setting Stopwords for English Language\n",
    "text = textract.process(\"./Hartford invoice.pdf\") # Loading a PDF-Document and converting it into plain text"
   ]
  },
  {
   "cell_type": "code",
   "execution_count": 18,
   "metadata": {
    "collapsed": false
   },
   "outputs": [],
   "source": [
    "# Converting the PDF into a JPEG\n",
    "tool = pyocr.get_available_tools()[0]\n",
    "lang = tool.get_available_languages()[0]\n",
    "req_image = []\n",
    "final_text = []\n",
    "\n",
    "image_pdf = Image(filename=\"./Hartford invoice.pdf\", resolution=300)\n",
    "image_jpeg = image_pdf.convert('jpeg')\n",
    "\n",
    "for img in image_jpeg.sequence:\n",
    "    img_page = Image(image=img)\n",
    "    req_image.append(img_page.make_blob('jpeg'))"
   ]
  },
  {
   "cell_type": "code",
   "execution_count": 45,
   "metadata": {
    "collapsed": false
   },
   "outputs": [],
   "source": [
    "# Run OCR\n",
    "for img in req_image: \n",
    "    txt = tool.image_to_string(\n",
    "        PI.open(io.BytesIO(img)),\n",
    "        lang=lang,\n",
    "        builder=pyocr.builders.TextBuilder()\n",
    "    )\n",
    "    final_text.append(txt)"
   ]
  },
  {
   "cell_type": "code",
   "execution_count": 46,
   "metadata": {
    "collapsed": false
   },
   "outputs": [
    {
     "name": "stdout",
     "output_type": "stream",
     "text": [
      "Insurance Bill Page 1\n",
      "\n",
      "Pay Online: www.thehartford.comlservic_g£r_rt_e£\n",
      "For Customer Service Call:1-866—467-8730\n",
      "7 am. to 7 pm. Central Time (Mon — Fri)\n",
      "\n",
      " \n",
      "\n",
      "THE\n",
      "HARTFORD\n",
      "\n",
      "Billing Company:\n",
      "Hartford Fire Insurance Company\n",
      "\n",
      " \n",
      "\n",
      "Report Claims 24 hours a day. 1-800—3273636\n",
      "\n",
      " \n",
      "\n",
      "Bill Date: 03I24I17 Billing Account #: 15092109\n",
      "\n",
      "[To Pay in Full: $529.54 jMinimum Due: $31.24 {Due Date: 04l13l17 ]\n",
      "\n",
      "By paying the Pay in Full amount shown above. you will not pay the service fee assessed on this bill. If your payment is not received\n",
      "by the due date. a late fee of $10.00 will be assessed.\n",
      "\n",
      " \n",
      "\n",
      " \n",
      "\n",
      "Named insured: CCAR CONSULTANTS LLC\n",
      "Your Agent: NUTMEG INSURANCE AGENCY INCIPHS\n",
      "\n",
      "004306 1/1\n",
      "\n",
      " \n",
      "\n",
      " \n",
      "\n",
      "ACCOUNT SUMMARY IMPORTANT MESSAGES\n",
      "\n",
      "Previous Account Balance . Thank you for placing your insurance with The Hartford.\n",
      "Payments & Adjustments $53.46\n",
      "\n",
      "Premium Activity $583.00\n",
      "\n",
      "New Fee(s) $7.00\n",
      "\n",
      "Account Balance $536.54\n",
      "\n",
      " \n",
      "\n",
      "l TRANSACTION DETAILS (since your last bill)\n",
      "\n",
      " \n",
      "\n",
      " \n",
      "\n",
      " \n",
      "\n",
      " \n",
      "\n",
      " \n",
      "\n",
      " \n",
      "\n",
      " \n",
      "\n",
      " \n",
      "\n",
      "Transaction i 1 l— WWW-m _ ‘ Payments) i Premium I Fee\n",
      "Dale 1 Transaction Description 1 Policy # 3 Policy Type Adjustments l; Activity | Activity\n",
      "03124117 Service Fee 57.00 T\n",
      "02123117 New Business OZSBMAI1245 Business Owners $356.00 :—\n",
      "021’28/17 NJPLIGA 02$BMAI1245 Business Owners 52.00\n",
      "0227/17 New Businas 02WB CAAOVNB Workers Compensation 5222-00\n",
      "02l27l17 NJ WC Inj Fund 02WBCAAOVNB Workers Compensation $3.00\n",
      "OZIZ7I17 Credit Card Payment— Thank You 621.61\n",
      "02127l17 Credit Card Payment— Thank You —$31.85\n",
      "I’ TOTALS 653.46 $583.00 $7.00\n",
      "\n",
      " \n",
      "\n",
      " \n",
      "\n",
      "_ Thank you for selecting The Hartford We appreciate your business\n",
      "\n",
      "m.w__.m __ _ WW\n",
      "-m..... rW .....-_.\n",
      "Wyummwmnmmuw—uu. ._ .r._ ..mu...m“WWW—mmmwm\"mm—HMM—w w—uw-u-umuwn-mmmv ---- MW....‘..._.._._._..\n",
      "\n",
      " \n",
      "\n",
      "Check below and complete Account Number: 150921 09\n",
      "reverse side to request:\n",
      "\n",
      "[I Address Changes Amount\n",
      "Enclosed: _________\n",
      "\n",
      "Mail Payments To:\n",
      "The Hartford\n",
      "\n",
      "  \n",
      "  \n",
      "\n",
      " \n",
      "\n",
      "    \n",
      " \n",
      "\n",
      "Payment Due Date\n",
      "Pay In Full\n",
      "$529.54\n",
      "\n",
      "04” 311 7\n",
      "Minimum Due\n",
      "\n",
      "$31.24\n",
      "\n",
      "   \n",
      "  \n",
      "   \n",
      "\n",
      "  \n",
      "\n",
      "AB 01 004306 10739 E 14 A\n",
      "\n",
      "'l'ilill'i'l-Il'iI'il-il--|'|'\"II-i'II'III\"|'lI-|llllI|\"--'i--\n",
      "P 0 Box 660916 CCAR CONSULTANTS LLC\n",
      "Dallas, TX 75266—0916 22 POTOMAC RD\n",
      "MONMOUTH JUNCTION, NJ 08852—3082 .0\n",
      "IIIIIIIIllIIIIIIIIIlllllIIIIIIIIIIIIIIIIIIIIIIIIIIIIIIIIIIIIIII'I\n",
      "\n",
      "1\n",
      "\n",
      "021501210307025h570000000312HUDUUUUSEEISHEIIUUBS\n"
     ]
    }
   ],
   "source": [
    "text = str(final_text[0])\n",
    "print(text)"
   ]
  },
  {
   "cell_type": "markdown",
   "metadata": {},
   "source": [
    "### Processing the data and applying NLP"
   ]
  },
  {
   "cell_type": "code",
   "execution_count": 47,
   "metadata": {
    "collapsed": false
   },
   "outputs": [],
   "source": [
    "# Segmenting the Text in order to return an array with sentences\n",
    "text = ' '.join([i for i in text.split() if i not in stop])\n",
    "sentences = nltk.sent_tokenize(text)"
   ]
  },
  {
   "cell_type": "code",
   "execution_count": 48,
   "metadata": {
    "collapsed": false
   },
   "outputs": [],
   "source": [
    "# Tokenize each sentence in order to break each sentence into an array of words\n",
    "sentences = [nltk.word_tokenize(sent) for sent in sentences]"
   ]
  },
  {
   "cell_type": "code",
   "execution_count": 49,
   "metadata": {
    "collapsed": true
   },
   "outputs": [],
   "source": [
    "# POS Tag each word in each sentence\n",
    "sentences = [nltk.pos_tag(sent) for sent in sentences]"
   ]
  },
  {
   "cell_type": "code",
   "execution_count": 51,
   "metadata": {
    "collapsed": false
   },
   "outputs": [],
   "source": [
    "# Functions to parse types of keywords\n",
    "def extract_phone_numbers(string):\n",
    "    r = re.compile(r'(\\d{3}[-\\.\\s]??\\d{3}[-\\.\\s]??\\d{4}|\\(\\d{3}\\)\\s*\\d{3}[-\\.\\s]??\\d{4}|\\d{3}[-\\.\\s]??\\d{4})')\n",
    "    phone_numbers = r.findall(string)\n",
    "    return [re.sub(r'\\D', '', number) for number in phone_numbers]\n",
    "\n",
    "def extract_email_addresses(string):\n",
    "    r = re.compile(r'[\\w\\.-]+@[\\w\\.-]+')\n",
    "    return r.findall(string)\n",
    "\n",
    "def extract_names(document):\n",
    "    names = []\n",
    "    for tagged_sentence in sentences:\n",
    "        for chunk in nltk.ne_chunk(tagged_sentence):\n",
    "            if type(chunk) == nltk.tree.Tree:\n",
    "                if chunk.label() == 'PERSON':\n",
    "                    names.append(' '.join([c[0] for c in chunk]))\n",
    "    return names\n",
    "\n",
    "def extract_locations(document):\n",
    "    locations = []\n",
    "    for tagged_sentence in sentences:\n",
    "        for chunk in nltk.ne_chunk(tagged_sentence):\n",
    "            if type(chunk) == nltk.tree.Tree:\n",
    "                if chunk.label() == 'GPE':\n",
    "                    locations.append(' '.join([c[0] for c in chunk]))\n",
    "    return locations\n",
    "\n",
    "def extract_dates(string):\n",
    "    r = re.compile(r'[A-Z]\\w+\\s\\d+')\n",
    "    return r.findall(string)    "
   ]
  },
  {
   "cell_type": "markdown",
   "metadata": {},
   "source": [
    "### Execution and Results "
   ]
  },
  {
   "cell_type": "code",
   "execution_count": 52,
   "metadata": {
    "collapsed": false
   },
   "outputs": [],
   "source": [
    "names = extract_names(text)\n",
    "locations = extract_locations(text)\n",
    "dates = extract_dates(text)"
   ]
  },
  {
   "cell_type": "code",
   "execution_count": 55,
   "metadata": {
    "collapsed": false
   },
   "outputs": [
    {
     "name": "stdout",
     "output_type": "stream",
     "text": [
      "['Insurance', 'Bill', 'Hartford Fire Insurance Company Report', 'Bill Date', 'Full', 'Due Date', 'Pay Full', 'Fee Dale', 'Account Number', 'Changes Amount']\n",
      "['Thank', 'New', 'Check', 'Full']\n",
      "['Page 1', 'Claims 24', 'INCIPHS 004306', 'Transaction 1', 'Dale 1', 'Description 1', 'Activity 03124117', 'Fee 57', 'NJPLIGA 02', 'Owners 52', 'Businas 02', 'Compensation 5222', 'Fund 02', 'You 621', 'TOTALS 653', 'AB 01', 'Box 660916', 'TX 75266', 'NJ 08852']\n"
     ]
    }
   ],
   "source": [
    "print(names)\n",
    "print(locations)\n",
    "print(dates)"
   ]
  },
  {
   "cell_type": "code",
   "execution_count": null,
   "metadata": {
    "collapsed": true
   },
   "outputs": [],
   "source": []
  }
 ],
 "metadata": {
  "kernelspec": {
   "display_name": "Python 3",
   "language": "python",
   "name": "python3"
  },
  "language_info": {
   "codemirror_mode": {
    "name": "ipython",
    "version": 3
   },
   "file_extension": ".py",
   "mimetype": "text/x-python",
   "name": "python",
   "nbconvert_exporter": "python",
   "pygments_lexer": "ipython3",
   "version": "3.6.0"
  }
 },
 "nbformat": 4,
 "nbformat_minor": 2
}
