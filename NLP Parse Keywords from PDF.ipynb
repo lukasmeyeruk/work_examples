{
 "cells": [
  {
   "cell_type": "markdown",
   "metadata": {},
   "source": [
    "# Extracting Keywords using Natural Language Processing (NLP)"
   ]
  },
  {
   "cell_type": "markdown",
   "metadata": {},
   "source": [
    "First we load all the necessary Python libraries (i.e., nltk and textract)"
   ]
  },
  {
   "cell_type": "code",
   "execution_count": 98,
   "metadata": {
    "collapsed": false
   },
   "outputs": [],
   "source": [
    "import nltk\n",
    "from nltk.corpus import stopwords\n",
    "import textract\n",
    "import re"
   ]
  },
  {
   "cell_type": "markdown",
   "metadata": {},
   "source": [
    "### Setting Options and Loading the Document to Parse"
   ]
  },
  {
   "cell_type": "code",
   "execution_count": 102,
   "metadata": {
    "collapsed": false
   },
   "outputs": [],
   "source": [
    "stop = stopwords.words('english') # Setting Stopwords for English Language\n",
    "text = textract.process(\"./letter.pdf\") # Loading a PDF-Document and converting it into plain text"
   ]
  },
  {
   "cell_type": "code",
   "execution_count": 103,
   "metadata": {
    "collapsed": false
   },
   "outputs": [
    {
     "name": "stdout",
     "output_type": "stream",
     "text": [
      "b'Name__________________________\\n\\nDate_________________\\n\\n(Example of a Business Letter)\\n\\nMs. Emily Smith 6999 Main Street Chicago, IL 88998\\n\\n(Return Address \\xc2\\xad of letter writer)\\n\\nJanuary 2, 2000\\n\\n(Date: month, day, year)\\n\\nMr. Sam Jones President KR Toys 3444 Elm Drive Wichita, KS 66500\\n\\n(Inside Address \\xc2\\xad recipient\\'s \"formal\" name, title, company\\nname, address, city, state, zip)\\n\\nDear Mr. Jones:\\n\\n(Salutation \\xc2\\xad formal)\\n\\nThis letter is to inform you of a problem I have had with a toy that I purchased at your\\n\\nstore.\\n\\n(Body of Letter \\xc2\\xad purpose and details)\\n\\nI purchased a karaoke machine at your store on December 20, 1999. It was to be used for a New Years Eve party that my family had for some of my friends. That evening, before the party, we plugged in the machine and set it up. When I first tried to test the machine, the CD started to play sound, but there were no words on the screen. We read the directions and tried other CD\\'s, but the machine never worked.\\n\\nAs you may guess, the party wasn\\'t the same without a karaoke machine. Therefore, I wanted to write this letter to let you know what happened, and to ask that you use brands that are more reliable than the one that I purchased.\\n\\nThank you very much for your time.\\n\\nSincerely,\\n\\n(Complimentary closing \\xc2\\xad ex. Sincerely, Regards, Yours truly, From) (Signature \\xc2\\xad 4 full spaces)\\n\\nEmily Smith\\n\\n(Typed name of letter writer)\\n\\nCopyright 2005 Money Instructor\\n\\n\\x0c'\n"
     ]
    }
   ],
   "source": [
    "# Convert to String and Print scrambled text\n",
    "text = str(text)\n",
    "print(text)"
   ]
  },
  {
   "cell_type": "markdown",
   "metadata": {},
   "source": [
    "### Processing the data and applying NLP"
   ]
  },
  {
   "cell_type": "code",
   "execution_count": 80,
   "metadata": {
    "collapsed": false
   },
   "outputs": [],
   "source": [
    "# Segmenting the Text in order to return an array with sentences\n",
    "text = ' '.join([i for i in text.split() if i not in stop])\n",
    "sentences = nltk.sent_tokenize(text)"
   ]
  },
  {
   "cell_type": "code",
   "execution_count": 81,
   "metadata": {
    "collapsed": false
   },
   "outputs": [],
   "source": [
    "# Tokenize each sentence in order to break each sentence into an array of words\n",
    "sentences = [nltk.word_tokenize(sent) for sent in sentences]"
   ]
  },
  {
   "cell_type": "code",
   "execution_count": 82,
   "metadata": {
    "collapsed": true
   },
   "outputs": [],
   "source": [
    "# POS Tag each word in each sentence\n",
    "sentences = [nltk.pos_tag(sent) for sent in sentences]"
   ]
  },
  {
   "cell_type": "code",
   "execution_count": 95,
   "metadata": {
    "collapsed": false
   },
   "outputs": [],
   "source": [
    "# Functions to parse types of keywords\n",
    "def extract_phone_numbers(string):\n",
    "    r = re.compile(r'(\\d{3}[-\\.\\s]??\\d{3}[-\\.\\s]??\\d{4}|\\(\\d{3}\\)\\s*\\d{3}[-\\.\\s]??\\d{4}|\\d{3}[-\\.\\s]??\\d{4})')\n",
    "    phone_numbers = r.findall(string)\n",
    "    return [re.sub(r'\\D', '', number) for number in phone_numbers]\n",
    "\n",
    "def extract_email_addresses(string):\n",
    "    r = re.compile(r'[\\w\\.-]+@[\\w\\.-]+')\n",
    "    return r.findall(string)\n",
    "\n",
    "def extract_names(document):\n",
    "    names = []\n",
    "    sentences = ie_preprocess(document)\n",
    "    for tagged_sentence in sentences:\n",
    "        for chunk in nltk.ne_chunk(tagged_sentence):\n",
    "            if type(chunk) == nltk.tree.Tree:\n",
    "                if chunk.label() == 'PERSON':\n",
    "                    names.append(' '.join([c[0] for c in chunk]))\n",
    "    return names\n",
    "\n",
    "def extract_locations(document):\n",
    "    locations = []\n",
    "    sentences = ie_preprocess(document)\n",
    "    for tagged_sentence in sentences:\n",
    "        for chunk in nltk.ne_chunk(tagged_sentence):\n",
    "            if type(chunk) == nltk.tree.Tree:\n",
    "                if chunk.label() == 'GPE':\n",
    "                    locations.append(' '.join([c[0] for c in chunk]))\n",
    "    return locations\n",
    "\n",
    "def extract_dates(string):\n",
    "    r = re.compile(r'[A-Z]\\w+\\s\\d+')\n",
    "    return r.findall(string)    "
   ]
  },
  {
   "cell_type": "markdown",
   "metadata": {},
   "source": [
    "### Execution and Results "
   ]
  },
  {
   "cell_type": "code",
   "execution_count": null,
   "metadata": {
    "collapsed": true
   },
   "outputs": [],
   "source": [
    "names = extract_names(text)\n",
    "locations = extract_locations(text)\n",
    "dates = extract_dates(text)"
   ]
  },
  {
   "cell_type": "code",
   "execution_count": null,
   "metadata": {
    "collapsed": true
   },
   "outputs": [],
   "source": []
  }
 ],
 "metadata": {
  "kernelspec": {
   "display_name": "Python 3",
   "language": "python",
   "name": "python3"
  },
  "language_info": {
   "codemirror_mode": {
    "name": "ipython",
    "version": 3
   },
   "file_extension": ".py",
   "mimetype": "text/x-python",
   "name": "python",
   "nbconvert_exporter": "python",
   "pygments_lexer": "ipython3",
   "version": "3.6.0"
  }
 },
 "nbformat": 4,
 "nbformat_minor": 2
}
